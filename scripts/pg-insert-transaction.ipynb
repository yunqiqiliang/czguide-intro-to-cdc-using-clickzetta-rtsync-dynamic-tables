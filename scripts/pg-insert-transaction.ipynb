{
 "cells": [
  {
   "cell_type": "code",
   "execution_count": 49,
   "id": "9dbc5e30-e8a2-4707-a1e0-9ce1a5c04985",
   "metadata": {},
   "outputs": [],
   "source": [
    "import psycopg2\n",
    "import random\n",
    "import time\n",
    "from datetime import datetime\n",
    "from pytz import timezone\n",
    "import uuid # 导入uuid模块\n",
    "\n",
    "# 数据库连接信息\n",
    "conn = psycopg2.connect(\n",
    "    dbname=\"postgres\",\n",
    "    user=\"postgres\",\n",
    "    password=\"postgres\",\n",
    "    host=\"localhost\",\n",
    "    port=\"5432\"\n",
    ")\n",
    "cur = conn.cursor()\n",
    "# 设置 search_path \n",
    "cur.execute(\"SET search_path TO raw_cdc;\")\n"
   ]
  },
  {
   "cell_type": "code",
   "execution_count": 48,
   "id": "39b3d245-f370-4346-95ef-ddd2e5c70abc",
   "metadata": {},
   "outputs": [
    {
     "name": "stdout",
     "output_type": "stream",
     "text": [
      "Loading csv/customers.csv into table customers...\n",
      "Loaded csv/customers.csv into table customers successfully!\n",
      "Loading csv/products.csv into table products...\n",
      "Loaded csv/products.csv into table products successfully!\n",
      "Loading csv/merchants.csv into table merchants...\n",
      "Loaded csv/merchants.csv into table merchants successfully!\n",
      "Loading csv/transactions.csv into table transactions...\n",
      "Loaded csv/transactions.csv into table transactions successfully!\n"
     ]
    }
   ],
   "source": [
    "# import os\n",
    "# # 设置 CSV 文件目录\n",
    "# csv_directory = \"csv/\"\n",
    "\n",
    "# def load_csv_to_postgres(csv_file, table_name):\n",
    "#     with open(csv_file, 'r') as f:\n",
    "#         cur.copy_expert(f\"COPY {table_name} FROM STDIN WITH CSV HEADER DELIMITER ','\", f)\n",
    "#     conn.commit()\n",
    "\n",
    "# # 遍历目录中的所有 CSV 文件并加载到对应的表中\n",
    "# for filename in os.listdir(csv_directory):\n",
    "#     if filename.endswith(\".csv\"):\n",
    "#         csv_file = os.path.join(csv_directory, filename)\n",
    "#         table_name = os.path.splitext(filename)[0]  # 文件名去掉扩展名作为表名\n",
    "#         print(f\"Loading {csv_file} into table {table_name}...\")\n",
    "#         load_csv_to_postgres(csv_file, table_name)\n",
    "#         print(f\"Loaded {csv_file} into table {table_name} successfully!\")\n"
   ]
  },
  {
   "cell_type": "code",
   "execution_count": 50,
   "id": "a84bca6b-1e4d-4ac7-b879-0819a438d05c",
   "metadata": {},
   "outputs": [],
   "source": [
    "# 设置参数\n",
    "loop_interval = 0  # 循环间隔（秒）\n",
    "loop_count = 1000  # 循环次数\n",
    "batch_size = 100  # 每次插入的记录数"
   ]
  },
  {
   "cell_type": "code",
   "execution_count": 51,
   "id": "94af11b3-0103-4482-b55f-b498e1006f9e",
   "metadata": {},
   "outputs": [],
   "source": [
    "def insert_transactions(loop_interval,loop_count,batch_size):\n",
    "    # 循环 loop_count 次\n",
    "    for i in range(loop_count):\n",
    "        try:\n",
    "            for j in range(1, batch_size + 1):\n",
    "                # 从现有表中随机选择有效的客户、产品和商家\n",
    "                cur.execute(\"SELECT * FROM customers ORDER BY RANDOM() LIMIT 1;\")\n",
    "                v_existing_customer = cur.fetchone()\n",
    "\n",
    "\n",
    "                cur.execute(\"SELECT * FROM products ORDER BY RANDOM() LIMIT 1;\")\n",
    "                v_existing_product = cur.fetchone()\n",
    "\n",
    "\n",
    "                cur.execute(\"SELECT * FROM merchants ORDER BY RANDOM() LIMIT 1;\")\n",
    "                v_existing_merchant = cur.fetchone()\n",
    "\n",
    "\n",
    "                # 生成新的交易 ID（唯一）\n",
    "                v_new_transaction_id = f\"TX{int(datetime.now().timestamp())}{j}\"\n",
    "                # 生成新的交易 ID（UUID 格式） \n",
    "                v_new_transaction_id = str(uuid.uuid4())\n",
    "\n",
    "                # 生成纽约时区的当前日期和时间\n",
    "                nyc_time = datetime.now(timezone('America/New_York'))\n",
    "                v_transaction_date = nyc_time.date()\n",
    "                v_transaction_time = nyc_time.strftime('%H:%M:%S')\n",
    "\n",
    "                # 生成随机数量（1 到 7 之间）\n",
    "                v_quantity = random.randint(1, 7)\n",
    "\n",
    "                # 获取产品价格并计算总价格\n",
    "                v_product_price = v_existing_product[3]  # 价格在第4列\n",
    "                # if not is_number(v_product_price):\n",
    "                #     continue  # 跳过非数值记录\n",
    "                v_total_price = float(v_product_price) * v_quantity\n",
    "\n",
    "                # 随机选择交易卡类型\n",
    "                v_transaction_card = random.choice(['American Express', 'Visa', 'Mastercard', 'Discover'])\n",
    "\n",
    "                # 随机选择交易类别\n",
    "                v_transaction_category = 'Purchase' if random.random() < 0.8 else 'Refund'\n",
    "\n",
    "                # 将新交易插入 transactions 表\n",
    "                cur.execute(\"\"\"\n",
    "                    INSERT INTO transactions (\n",
    "                        transaction_id, customer_id, product_id, merchant_id, transaction_date, transaction_time, quantity, total_price, transaction_card, transaction_category\n",
    "                    ) VALUES (%s, %s, %s, %s, %s, %s, %s, %s, %s, %s);\n",
    "                \"\"\", (\n",
    "                    v_new_transaction_id, v_existing_customer[0], v_existing_product[0],\n",
    "                    v_existing_merchant[0], v_transaction_date, v_transaction_time,\n",
    "                    v_quantity, v_total_price, v_transaction_card, v_transaction_category\n",
    "                ))\n",
    "\n",
    "            # 每批 batch_size 行后提交\n",
    "            conn.commit()\n",
    "\n",
    "            # 插入下一批之前等待 loop_interval 秒\n",
    "            time.sleep(loop_interval)\n",
    "        \n",
    "        except Exception as e:\n",
    "            print(f\"Error occurred: {e}\")\n",
    "            conn.rollback()  # 回滚当前事务"
   ]
  },
  {
   "cell_type": "code",
   "execution_count": 54,
   "id": "b0e51d45-9efb-4807-9031-1f6beae9645a",
   "metadata": {},
   "outputs": [],
   "source": [
    "# 调用函数插入交易数据\n",
    "insert_transactions(loop_interval,loop_count,batch_size)"
   ]
  },
  {
   "cell_type": "code",
   "execution_count": null,
   "id": "75e14805-ba78-49ef-959e-eee4315e6790",
   "metadata": {},
   "outputs": [],
   "source": [
    "# 关闭游标和连接\n",
    "cur.close()\n",
    "conn.close()"
   ]
  }
 ],
 "metadata": {
  "kernelspec": {
   "display_name": "Python 3 (ipykernel)",
   "language": "python",
   "name": "python3"
  },
  "language_info": {
   "codemirror_mode": {
    "name": "ipython",
    "version": 3
   },
   "file_extension": ".py",
   "mimetype": "text/x-python",
   "name": "python",
   "nbconvert_exporter": "python",
   "pygments_lexer": "ipython3",
   "version": "3.11.9"
  }
 },
 "nbformat": 4,
 "nbformat_minor": 5
}
